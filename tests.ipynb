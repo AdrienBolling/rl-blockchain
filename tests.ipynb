{
 "cells": [
  {
   "metadata": {
    "ExecuteTime": {
     "end_time": "2024-10-10T12:00:56.388305Z",
     "start_time": "2024-10-10T12:00:56.385682Z"
    }
   },
   "cell_type": "code",
   "source": [
    "import jax.numpy as jnp\n",
    "from marl_blockchain.rl.BlockchainGraph import *\n",
    "import jax.tree_util as tree"
   ],
   "id": "1e98121fed3bae46",
   "outputs": [],
   "execution_count": 30
  },
  {
   "metadata": {
    "ExecuteTime": {
     "end_time": "2024-10-10T12:00:56.410138Z",
     "start_time": "2024-10-10T12:00:56.405585Z"
    }
   },
   "cell_type": "code",
   "source": [
    "n = 4\n",
    "node_features_size = 1\n",
    "\n",
    "# Create a dummy distances matrix for the example with n=4\n",
    "distances = jnp.arange(n ** 2).reshape(n, n)\n",
    "# Set the diagonal to 0\n",
    "distances = jnp.where(jnp.eye(n), 0, distances) \n",
    "distances"
   ],
   "id": "5a9c8450804b1bd1",
   "outputs": [
    {
     "data": {
      "text/plain": [
       "Array([[ 0,  1,  2,  3],\n",
       "       [ 4,  0,  6,  7],\n",
       "       [ 8,  9,  0, 11],\n",
       "       [12, 13, 14,  0]], dtype=int32)"
      ]
     },
     "execution_count": 31,
     "metadata": {},
     "output_type": "execute_result"
    }
   ],
   "execution_count": 31
  },
  {
   "metadata": {
    "ExecuteTime": {
     "end_time": "2024-10-10T12:00:56.434537Z",
     "start_time": "2024-10-10T12:00:56.432119Z"
    }
   },
   "cell_type": "code",
   "source": [
    "# Create a dummy node features matrix for the example with n=4\n",
    "graph = create_blockchain_graph(distances, node_features_size)"
   ],
   "id": "c8b042095035ad04",
   "outputs": [],
   "execution_count": 32
  },
  {
   "metadata": {
    "ExecuteTime": {
     "end_time": "2024-10-10T12:00:56.455863Z",
     "start_time": "2024-10-10T12:00:56.453643Z"
    }
   },
   "cell_type": "code",
   "source": [
    "# Create a distribution over the nodes\n",
    "node_distribution = jnp.array([0.1, 0.2, 0.3, 0.4])\n",
    "\n",
    "# Set as attributes of the graph\n",
    "graph = graph._replace(nodes=node_distribution)"
   ],
   "id": "467af14e3a8fc8c3",
   "outputs": [],
   "execution_count": 33
  },
  {
   "metadata": {
    "ExecuteTime": {
     "end_time": "2024-10-10T12:00:56.476084Z",
     "start_time": "2024-10-10T12:00:56.473851Z"
    }
   },
   "cell_type": "code",
   "source": [
    "def apply_simplified_gcn(graph: jraph.GraphsTuple) -> jraph.GraphsTuple:\n",
    "  # Unpack GraphsTuple\n",
    "  nodes, _, receivers, senders, _, _, _ = graph\n",
    "\n",
    "  # 1. Update node features\n",
    "  # For simplicity, we will first use an identify function here, and replace it\n",
    "  # with a trainable MLP block later.\n",
    "  update_node_fn = lambda nodes: nodes\n",
    "  nodes = update_node_fn(nodes)\n",
    "\n",
    "  # 2. Aggregate node features over nodes in neighborhood\n",
    "  # Equivalent to jnp.sum(n_node), but jittable\n",
    "  total_num_nodes = tree.tree_leaves(nodes)[0].shape[0]\n",
    "  aggregate_nodes_fn = jax.ops.segment_sum\n",
    "\n",
    "  # Compute new node features by aggregating messages from neighboring nodes\n",
    "  nodes = tree.tree_map(lambda x: aggregate_nodes_fn(x[senders], receivers,\n",
    "                                        total_num_nodes), nodes)\n",
    "  out_graph = graph._replace(nodes=nodes)\n",
    "  return out_graph"
   ],
   "id": "fa2847e12d8e9769",
   "outputs": [],
   "execution_count": 34
  },
  {
   "metadata": {
    "ExecuteTime": {
     "end_time": "2024-10-10T12:00:56.496536Z",
     "start_time": "2024-10-10T12:00:56.493681Z"
    }
   },
   "cell_type": "code",
   "source": [
    "# Apply the simplified GCN function\n",
    "gcn_graph = apply_simplified_gcn(graph)"
   ],
   "id": "39ac0a3c15a53a2f",
   "outputs": [],
   "execution_count": 35
  },
  {
   "metadata": {
    "ExecuteTime": {
     "end_time": "2024-10-10T12:00:56.517220Z",
     "start_time": "2024-10-10T12:00:56.514850Z"
    }
   },
   "cell_type": "code",
   "source": "gcn_graph.nodes",
   "id": "b1a28e8b8a61483c",
   "outputs": [
    {
     "data": {
      "text/plain": [
       "Array([1., 1., 1., 1.], dtype=float32)"
      ]
     },
     "execution_count": 36,
     "metadata": {},
     "output_type": "execute_result"
    }
   ],
   "execution_count": 36
  },
  {
   "metadata": {
    "ExecuteTime": {
     "end_time": "2024-10-10T12:00:56.555073Z",
     "start_time": "2024-10-10T12:00:56.552811Z"
    }
   },
   "cell_type": "code",
   "source": "graph",
   "id": "31c32acd90c8af1f",
   "outputs": [
    {
     "data": {
      "text/plain": [
       "GraphsTuple(nodes=Array([0.1, 0.2, 0.3, 0.4], dtype=float32), edges=Array([[ 0],\n",
       "       [ 1],\n",
       "       [ 2],\n",
       "       [ 3],\n",
       "       [ 4],\n",
       "       [ 0],\n",
       "       [ 6],\n",
       "       [ 7],\n",
       "       [ 8],\n",
       "       [ 9],\n",
       "       [ 0],\n",
       "       [11],\n",
       "       [12],\n",
       "       [13],\n",
       "       [14],\n",
       "       [ 0]], dtype=int32), receivers=Array([0, 1, 2, 3, 0, 1, 2, 3, 0, 1, 2, 3, 0, 1, 2, 3], dtype=int32), senders=Array([0, 0, 0, 0, 1, 1, 1, 1, 2, 2, 2, 2, 3, 3, 3, 3], dtype=int32), globals=Array([[0.]], dtype=float32), n_node=Array([4], dtype=int32), n_edge=Array([16], dtype=int32))"
      ]
     },
     "execution_count": 37,
     "metadata": {},
     "output_type": "execute_result"
    }
   ],
   "execution_count": 37
  },
  {
   "metadata": {
    "ExecuteTime": {
     "end_time": "2024-10-10T12:00:56.565234Z",
     "start_time": "2024-10-10T12:00:56.561279Z"
    }
   },
   "cell_type": "code",
   "source": [
    "# Transform the node_distances matrix into a symmetric matrix\n",
    "def make_symmetric(matrix: jnp.ndarray) -> jnp.ndarray:\n",
    "  return matrix + matrix.T - jnp.diag(jnp.diag(matrix))\n",
    "\n",
    "# Create a dummy distances matrix for the example with n=4\n",
    "distances = jnp.arange(n ** 2).reshape(n, n)\n",
    "# Set the diagonal to 0\n",
    "distances = jnp.where(jnp.eye(n), 0, distances)\n",
    "# Make the matrix symmetric\n",
    "\n",
    "distances = make_symmetric(distances)\n",
    "distances"
   ],
   "id": "4819e66b3ee2c5c5",
   "outputs": [
    {
     "data": {
      "text/plain": [
       "Array([[ 0,  5, 10, 15],\n",
       "       [ 5,  0, 15, 20],\n",
       "       [10, 15,  0, 25],\n",
       "       [15, 20, 25,  0]], dtype=int32)"
      ]
     },
     "execution_count": 38,
     "metadata": {},
     "output_type": "execute_result"
    }
   ],
   "execution_count": 38
  },
  {
   "metadata": {
    "ExecuteTime": {
     "end_time": "2024-10-10T12:00:56.587301Z",
     "start_time": "2024-10-10T12:00:56.584165Z"
    }
   },
   "cell_type": "code",
   "source": [
    "from marl_blockchain.rl.env import *\n",
    "\n",
    "env = BlockchainEnv_intermediary(node_distance_matrix=distances, node_features=[\"node_id\",\"inner_chosen\",\"distrib_chosen\"], voting_nodes=3)"
   ],
   "id": "39ee66f5de884117",
   "outputs": [],
   "execution_count": 39
  },
  {
   "metadata": {
    "ExecuteTime": {
     "end_time": "2024-10-10T12:00:56.621188Z",
     "start_time": "2024-10-10T12:00:56.604844Z"
    }
   },
   "cell_type": "code",
   "source": "state = env.reset()",
   "id": "ddeef3808cb16a2a",
   "outputs": [],
   "execution_count": 40
  },
  {
   "metadata": {
    "ExecuteTime": {
     "end_time": "2024-10-10T12:00:56.699849Z",
     "start_time": "2024-10-10T12:00:56.627561Z"
    }
   },
   "cell_type": "code",
   "source": "action = env.sample_legal_action(state)",
   "id": "da1685e8fc8da03b",
   "outputs": [],
   "execution_count": 41
  },
  {
   "metadata": {
    "ExecuteTime": {
     "end_time": "2024-10-10T12:00:56.709291Z",
     "start_time": "2024-10-10T12:00:56.706816Z"
    }
   },
   "cell_type": "code",
   "source": "action",
   "id": "a0ffb2c6a49945b5",
   "outputs": [
    {
     "data": {
      "text/plain": [
       "Array([0., 1., 0., 0.], dtype=float32)"
      ]
     },
     "execution_count": 42,
     "metadata": {},
     "output_type": "execute_result"
    }
   ],
   "execution_count": 42
  },
  {
   "metadata": {
    "ExecuteTime": {
     "end_time": "2024-10-10T12:00:56.760695Z",
     "start_time": "2024-10-10T12:00:56.720609Z"
    }
   },
   "cell_type": "code",
   "source": "new_state, reward, done, info = env.step(state, action, jnp.array([0.1, 0.9]))",
   "id": "52799c60dabaa289",
   "outputs": [],
   "execution_count": 43
  },
  {
   "metadata": {
    "ExecuteTime": {
     "end_time": "2024-10-10T12:00:56.864867Z",
     "start_time": "2024-10-10T12:00:56.767646Z"
    }
   },
   "cell_type": "code",
   "source": "draw_jraph_graph_structure(new_state.blockchain)",
   "id": "39e5e84d11940221",
   "outputs": [
    {
     "data": {
      "text/plain": [
       "<Figure size 640x480 with 1 Axes>"
      ],
      "image/png": "[encoded data removed]"
     },
     "metadata": {},
     "output_type": "display_data"
    }
   ],
   "execution_count": 44
  },
  {
   "metadata": {
    "ExecuteTime": {
     "end_time": "2024-10-10T15:32:56.580038Z",
     "start_time": "2024-10-10T15:32:56.577386Z"
    }
   },
   "cell_type": "code",
   "source": [
    "import jraph as jr\n",
    "import flax\n",
    "import jax\n",
    "import flax.linen as nn\n",
    "import distrax"
   ],
   "id": "30197347a7f1b8ef",
   "outputs": [],
   "execution_count": 86
  },
  {
   "metadata": {
    "ExecuteTime": {
     "end_time": "2024-10-10T15:32:56.590956Z",
     "start_time": "2024-10-10T15:32:56.588693Z"
    }
   },
   "cell_type": "code",
   "source": [
    "def make_embed_fn(latent_size):\n",
    "  def embed(inputs):\n",
    "    return nn.Dense(latent_size)(inputs)\n",
    "  return embed"
   ],
   "id": "38149222c4dafe9d",
   "outputs": [],
   "execution_count": 87
  },
  {
   "metadata": {
    "ExecuteTime": {
     "end_time": "2024-10-10T15:32:56.607046Z",
     "start_time": "2024-10-10T15:32:56.604697Z"
    }
   },
   "cell_type": "code",
   "source": [
    "def _attention_logit_fn(sender_attr: jnp.ndarray,\n",
    "                        receiver_attr: jnp.ndarray,\n",
    "                        edges: jnp.ndarray) -> jnp.ndarray:\n",
    "  x = jnp.concatenate((sender_attr, receiver_attr, edges), axis=1)\n",
    "  return nn.Dense(1)(x)"
   ],
   "id": "9f86147f60377296",
   "outputs": [],
   "execution_count": 88
  },
  {
   "metadata": {
    "ExecuteTime": {
     "end_time": "2024-10-10T15:32:56.619185Z",
     "start_time": "2024-10-10T15:32:56.617802Z"
    }
   },
   "cell_type": "code",
   "source": "",
   "id": "252fa8b29e72ed27",
   "outputs": [],
   "execution_count": null
  },
  {
   "metadata": {
    "ExecuteTime": {
     "end_time": "2024-10-10T15:32:56.635312Z",
     "start_time": "2024-10-10T15:32:56.630260Z"
    }
   },
   "cell_type": "code",
   "source": [
    "class PolicyNET_GAT(nn.Module):\n",
    "    \"\"\"\n",
    "    Graph Attention Network (GAT) module using flax and jraph\n",
    "    \"\"\"\n",
    "    \n",
    "    gat1_output_dim: int\n",
    "    gat2_output_dim: int\n",
    "    gat2_nodes_output_dim: int\n",
    "    action_dim: int\n",
    "    \n",
    "    @nn.compact\n",
    "    def __call__(self, x):\n",
    "        gcn1 = jr.GraphConvolution(\n",
    "            update_node_fn=lambda n: jax.nn.relu(make_embed_fn(self.gat1_output_dim)(n)),\n",
    "            add_self_edges=True,\n",
    "        )\n",
    "        \n",
    "        gcn2 = jr.GraphConvolution(\n",
    "            update_node_fn=lambda n: jax.nn.relu(make_embed_fn(self.gat2_output_dim)(n)),\n",
    "            add_self_edges=True,\n",
    "        )\n",
    "        \n",
    "        gat1 = jr.GAT(\n",
    "            attention_query_fn=lambda n: make_embed_fn(self.gat1_output_dim)(n),\n",
    "            attention_logit_fn=_attention_logit_fn,\n",
    "            node_update_fn=None\n",
    "        )\n",
    "        \n",
    "        gat2 = jr.GAT(\n",
    "            attention_query_fn=lambda n: make_embed_fn(self.gat2_output_dim)(n),\n",
    "            attention_logit_fn=_attention_logit_fn,\n",
    "            node_update_fn=lambda n: make_embed_fn(self.gat2_nodes_output_dim)(n)\n",
    "        )\n",
    "        \n",
    "        x._replace(globals=jnp.zeros((1, self.action_dim)))\n",
    "        \n",
    "        @jr.concatenated_args\n",
    "        def concat_fn(x):\n",
    "            return jax.nn.relu(make_embed_fn(self.gat1_output_dim)(x))\n",
    "        \n",
    "        @jr.concatenated_args\n",
    "        def concat_fn_final(x):\n",
    "            return jax.nn.relu(make_embed_fn(self.action_dim)(x))\n",
    "        \n",
    "        gnn = jr.GraphNetwork(\n",
    "            update_edge_fn=concat_fn,\n",
    "            update_node_fn=concat_fn,\n",
    "            update_global_fn=concat_fn_final\n",
    "        )\n",
    "        x = gcn1(x)\n",
    "        x = gcn2(x)\n",
    "        x = gat1(x)\n",
    "        x = gat2(x)\n",
    "        x = gnn(x)\n",
    "        \n",
    "        pi = distrax.Categorical(logits=x.globals)\n",
    "        return pi"
   ],
   "id": "d1efd5fb3d705955",
   "outputs": [],
   "execution_count": 89
  },
  {
   "metadata": {
    "ExecuteTime": {
     "end_time": "2024-10-10T15:32:56.646583Z",
     "start_time": "2024-10-10T15:32:56.645025Z"
    }
   },
   "cell_type": "code",
   "source": [
    "# Get a graph from the environment\n",
    "graph = new_state.blockchain"
   ],
   "id": "6b5c0b6fa9e1de0d",
   "outputs": [],
   "execution_count": 90
  },
  {
   "metadata": {
    "ExecuteTime": {
     "end_time": "2024-10-10T15:32:56.657738Z",
     "start_time": "2024-10-10T15:32:56.655454Z"
    }
   },
   "cell_type": "code",
   "source": [
    "# Create a GAT model\n",
    "gat = PolicyNET_GAT(gat1_output_dim=32, gat2_output_dim=16, gat2_nodes_output_dim=8, action_dim=3)\n",
    "gat"
   ],
   "id": "536fcda5221947eb",
   "outputs": [
    {
     "data": {
      "text/plain": [
       "GAT(\n",
       "    # attributes\n",
       "    gat1_output_dim = 32\n",
       "    gat2_output_dim = 16\n",
       "    gat2_nodes_output_dim = 8\n",
       "    action_dim = 3\n",
       ")"
      ]
     },
     "execution_count": 91,
     "metadata": {},
     "output_type": "execute_result"
    }
   ],
   "execution_count": 91
  },
  {
   "metadata": {
    "ExecuteTime": {
     "end_time": "2024-10-10T15:32:56.685404Z",
     "start_time": "2024-10-10T15:32:56.666542Z"
    }
   },
   "cell_type": "code",
   "source": "params = gat.init(jax.random.PRNGKey(0), graph)",
   "id": "a3a80d240fb1c103",
   "outputs": [],
   "execution_count": 92
  },
  {
   "metadata": {
    "ExecuteTime": {
     "end_time": "2024-10-10T15:32:56.717381Z",
     "start_time": "2024-10-10T15:32:56.694018Z"
    }
   },
   "cell_type": "code",
   "source": "res = gat.apply(params, graph)",
   "id": "4bd8af842dd27be7",
   "outputs": [],
   "execution_count": 93
  },
  {
   "metadata": {
    "ExecuteTime": {
     "end_time": "2024-10-10T15:32:56.728451Z",
     "start_time": "2024-10-10T15:32:56.726384Z"
    }
   },
   "cell_type": "code",
   "source": "res",
   "id": "917a87207b951a9a",
   "outputs": [
    {
     "data": {
      "text/plain": [
       "<distrax._src.distributions.categorical.Categorical at 0x36c41e550>"
      ]
     },
     "execution_count": 94,
     "metadata": {},
     "output_type": "execute_result"
    }
   ],
   "execution_count": 94
  },
  {
   "metadata": {
    "ExecuteTime": {
     "end_time": "2024-10-10T15:32:56.740538Z",
     "start_time": "2024-10-10T15:32:56.737512Z"
    }
   },
   "cell_type": "code",
   "source": [
    "# Random key for sampling (required by JAX)\n",
    "key = jax.random.PRNGKey(0)\n",
    "\n",
    "# Sample a category index\n",
    "sample = res.sample(seed=key)\n",
    "print(f\"Sampled category index: {sample}\")\n"
   ],
   "id": "171b16c90d4df92d",
   "outputs": [
    {
     "name": "stdout",
     "output_type": "stream",
     "text": [
      "Sampled category index: [0]\n"
     ]
    }
   ],
   "execution_count": 95
  },
  {
   "metadata": {
    "ExecuteTime": {
     "end_time": "2024-10-11T07:22:04.879257Z",
     "start_time": "2024-10-11T07:22:04.767462Z"
    }
   },
   "cell_type": "code",
   "source": [
    "import jax\n",
    "import jax.numpy as jnp\n",
    "from jax import lax\n",
    "\n",
    "# Original function for comparison\n",
    "def original_compute_gae(rewards, values, dones, last_value, gamma=0.99, lambda_=0.95):\n",
    "    advantages = []\n",
    "    advantage = 0.0\n",
    "    for i in reversed(range(len(rewards))):\n",
    "        delta = rewards[i] + gamma * last_value * (1.0 - dones[i]) - values[i]\n",
    "        advantage = delta + gamma * lambda_ * advantage * (1.0 - dones[i])\n",
    "        advantages.insert(0, advantage)\n",
    "        last_value = values[i]\n",
    "    return jnp.array(advantages)\n",
    "\n",
    "# Optimized function using jax.lax.scan\n",
    "@jax.jit\n",
    "def optimized_compute_gae(rewards, values, dones, last_value, gamma=0.99, lambda_=0.95):\n",
    "    values = jnp.append(values, last_value)\n",
    "    \n",
    "    def scan_fn(carry, idx):\n",
    "        advantage, next_value = carry\n",
    "        reward = rewards[idx]\n",
    "        value = values[idx]\n",
    "        done = dones[idx]\n",
    "        \n",
    "        delta = reward + gamma * next_value * (1.0 - done) - value\n",
    "        advantage = delta + gamma * lambda_ * advantage * (1.0 - done)\n",
    "        \n",
    "        return (advantage, value), advantage\n",
    "    \n",
    "    init = (0.0, last_value)\n",
    "    \n",
    "    _, advantages = lax.scan(scan_fn, init, jnp.arange(len(rewards) - 1, -1, -1))\n",
    "    return jnp.flip(advantages)\n",
    "\n",
    "# Test data\n",
    "rewards = jnp.array([1.0, 1.0, 1.0, 1.0])\n",
    "values = jnp.array([0.5, 0.6, 0.7, 0.8])\n",
    "dones = jnp.array([0, 0, 1, 0])\n",
    "last_value = 0.9\n",
    "gamma = 0.99\n",
    "lambda_ = 0.95\n",
    "\n",
    "# Get results from both functions\n",
    "original_result = original_compute_gae(rewards, values, dones, last_value, gamma, lambda_)\n",
    "optimized_result = optimized_compute_gae(rewards, values, dones, last_value, gamma, lambda_)\n",
    "\n",
    "# Compare the results\n",
    "original_result, optimized_result, jnp.allclose(original_result, optimized_result)\n"
   ],
   "id": "369163e08888d9a9",
   "outputs": [
    {
     "data": {
      "text/plain": [
       "(Array([2.3873286, 1.3751501, 0.3      , 1.0910001], dtype=float32),\n",
       " Array([2.3873286, 1.3751501, 0.3      , 1.0910001], dtype=float32),\n",
       " Array(True, dtype=bool))"
      ]
     },
     "execution_count": 96,
     "metadata": {},
     "output_type": "execute_result"
    }
   ],
   "execution_count": 96
  },
  {
   "metadata": {},
   "cell_type": "code",
   "outputs": [],
   "execution_count": null,
   "source": "",
   "id": "9eb9e1ffc2a07c04"
  }
 ],
 "metadata": {
  "kernelspec": {
   "display_name": "Python 3",
   "language": "python",
   "name": "python3"
  },
  "language_info": {
   "codemirror_mode": {
    "name": "ipython",
    "version": 2
   },
   "file_extension": ".py",
   "mimetype": "text/x-python",
   "name": "python",
   "nbconvert_exporter": "python",
   "pygments_lexer": "ipython2",
   "version": "2.7.6"
  }
 },
 "nbformat": 4,
 "nbformat_minor": 5
}
